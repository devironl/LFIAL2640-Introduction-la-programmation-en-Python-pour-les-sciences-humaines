{
 "cells": [
  {
   "cell_type": "markdown",
   "metadata": {},
   "source": [
    "# TP 2: Les structures de données en Python\n",
    "\n",
    "\n",
    "Ce notebook reprend 5 exercices à faire chez vous. Chaque exercice vous demande de réaliser une série d'opérations. Utilisez les concepts vus lors des deux premiers cours pour réaliser ce qui vous est demandé.\n",
    "\n",
    "Nous passerons à travers les exercices lors de la séance de TP sur Teams. \n"
   ]
  },
  {
   "cell_type": "markdown",
   "metadata": {},
   "source": [
    "### 1. Les femmes dans la littérature\n",
    "\n",
    "Une journaliste rédige un articles sur les 10 femmes qui ont marqué la littérature. Elle a établi son top 10 dans l'ordre suivant:\n",
    "\n",
    "1. Jane Austen \n",
    "2. Agatha Christie\n",
    "3. Virginia Woolf\n",
    "4. Simone de Beauvoir\n",
    "5. Mary Shelley\n",
    "6. Emily Brontë\n",
    "7. Charlotte Brontë\n",
    "8. Toni Morrison\n",
    "9. Margaret Atwood\n",
    "10. George Sand\n",
    "\n",
    "Pour aider l'éditeur à automatiser son travail:\n",
    "\n",
    "- Créez une liste en Python qui contient le nom des dix femmes\n",
    "- Vous n'êtes pas d'accord avec le choix de \"Toni Morrison\". Remplacez la par une autrice que vous appréciez\n",
    "- Affichez le top 3 uniquement\n",
    "- Affichez le \"pied du Podium\", c'est-à-dire la 4e et la 5e femme\n",
    "- Affichez les 3 dernières femmes de la liste\n",
    "- Affichez la liste dans l'ordre alphabétique"
   ]
  },
  {
   "cell_type": "code",
   "execution_count": null,
   "metadata": {},
   "outputs": [],
   "source": [
    "authors = [\"Jane Austen\", \"Agatha Christie\", \"Virginia Woolf\", \"Simone de Beauvoir\", \"Mary Shelley\", \"Emilie Brontë\", \"Charlotte Brontë\", \"Toni Morrison\", \"Margaret Atwood\", \"George Sand\"]\n",
    "authors[7] = \"Colette\"\n",
    "print(\"Top 3 des autrices\")\n",
    "print(authors[:3])\n",
    "print(\"Le Pied du podium\")\n",
    "print(authors[3:5])\n",
    "print(\"Fin du top 10\")\n",
    "print(authors[-3:])\n",
    "print(\"Les autrices dans l'ordre alphabétique\")\n",
    "print(sorted(authors))"
   ]
  },
  {
   "cell_type": "markdown",
   "metadata": {},
   "source": [
    "### 2. Gestion des doublons\n",
    "\n",
    "Une bibliothécaire veut organiser les noms d’auteurs de son rayon en supprimant les doublons. Il vous fournit une liste d'auteurs et vous demande de la nettoyer:\n",
    "\n",
    "- Supprimez les doublons de la liste\n",
    "- Vérifiez que \"Proust\" est dans la liste\n",
    "- Si ce n'est pas le cas, ajoutez-le\n",
    "- Affichez le nombre total d'auteurs uniques"
   ]
  },
  {
   "cell_type": "code",
   "execution_count": null,
   "metadata": {},
   "outputs": [],
   "source": [
    "authors = [\"Flaubert\", \"Hugo\", \"Zola\", \"Camus\", \"Simenon\", \"Gide\", \"Duras\", \"Colette\", \"Sartre\"]\n",
    "unique_authors = set(authors)\n",
    "print(\"Proust\" in unique_authors)\n",
    "unique_authors.add(\"Proust\")\n",
    "print(len(unique_authors))"
   ]
  },
  {
   "cell_type": "markdown",
   "metadata": {},
   "source": [
    "### 3. Top 10 des prénoms en France et en Belgique\n",
    "\n",
    "L'Office national des statistiques vous fournit le top 20 des prénoms en France et en Belgique:\n",
    "\n",
    "- Trouvez les prénoms communs aux deux classements et comptez -les\n",
    "- Trouvez les prénoms qui apparaissent dans le top 20 français, mais pas dans le top Belge\n",
    "- Trouvez les prénoms qui ne se trouvent que dans un des classements\n",
    "- Vérifiez si votre prénom se trouve dans le top 20 des prénoms belges."
   ]
  },
  {
   "cell_type": "code",
   "execution_count": null,
   "metadata": {},
   "outputs": [],
   "source": [
    "top20_france = {\"Gabriel\", \"Léo\", \"Raphaël\", \"Maël\", \"Louis\", \"Louise\", \"Ambre\", \"Noah\", \"Alba\", \"Jules\", \"Adam\", \"Arthur\", \"Jade\", \"Eden\", \"Emma\", \"Isaac\", \"Liam\", \"Sacha\", \"Rose\", \"Eva\"}\n",
    "top20_belgium = {\"Noah\",\"Olivia\",\"Arthur\",\"Liam\",\"Adam\",\"Louis\",\"Jules\",\"Emma\",\"Lucas\",\"Gabriel\",\"Louise\",\"Sofia\",\"Lina\",\"Alice\",\"Eva\",\"Anna\",\"Victor\",\"Mila\",\"Juliette\",\"Matteo\"}\n",
    "\n",
    "# Dans les 2 classements\n",
    "common_names = top20_france & top20_belgium\n",
    "print(len(common_names))\n",
    "\n",
    "# Uniquement dans le classement français\n",
    "only_french_names = top20_france - top20_belgium\n",
    "print(len(only_french_names))\n",
    "\n",
    "# Uniquement dans un des deux classements\n",
    "only_in_one_country = top20_belgium ^ top20_france\n",
    "print(len(only_in_one_country))\n",
    "\n",
    "print(\"Louis\" in top20_belgium)"
   ]
  },
  {
   "cell_type": "markdown",
   "metadata": {},
   "source": [
    "### 4. Évènements historiques\n",
    "\n",
    "En tant qu’historiens, vous souhaitez mémoriser les dates clés de l’histoire. Heureusement, Python propose une structure adaptée pour cela.\n",
    "\n",
    "Modifiez la liste suivante pour qu'elle contienne les 10 dates que vous voulez mémoriser.\n",
    "- Affichez le type du premier élément de la liste\n",
    "- Affichez la date du dernier élément de la liste\n",
    "- Supprimez le premier élément de la liste\n",
    "- Ajoutez un évènement majeur à la liste\n",
    "- Affichez une phrase qui évoque le 3e élément de la liste: \"En XXX, a eu lieu YYY\""
   ]
  },
  {
   "cell_type": "code",
   "execution_count": null,
   "metadata": {},
   "outputs": [],
   "source": [
    "key_dates = [(-476, \"Chute de l’Empire romain d’Occident\"), (1492, \"Découverte de l’Amérique\"), (1789, \"Prise de la Bastille\"), (1945, \"Fin de la Seconde Guerre mondiale\")]\n",
    "\n",
    "print(type(key_dates[0]))\n",
    "print(key_dates[0][0])\n",
    "\n",
    "key_dates.pop()\n",
    "\n",
    "key_dates.append((2020, \"Pandémie de Covid 19\"))\n",
    "\n",
    "print(f\"En {key_dates[2][0]}, a eu lieu la {key_dates[2][1]}\")"
   ]
  },
  {
   "cell_type": "markdown",
   "metadata": {},
   "source": [
    "### 5. Analysez votre session de janvier\n",
    "\n",
    "Vous êtes étudiant.e et vous voulez analyser vos résultats de la session de janvier pour voir où sont vos forces et vos faiblesses. A l'aide de ce qu'on à vu au cours:\n",
    "\n",
    "- Créez une liste qui reprend toutes les notes de vos examens de janvier\n",
    "- Affichez votre note la plus basse\n",
    "- Affichez votre note la plus haute\n",
    "- Affichez l'écart entre votre note la plus haute et la note la plus basse\n",
    "- Calculez la note moyenne de votre session\n",
    "- Calculez la note médiane de votre session"
   ]
  },
  {
   "cell_type": "code",
   "execution_count": null,
   "metadata": {},
   "outputs": [],
   "source": [
    "scores = [12, 14, 16, 10, 9, 18, 13]\n",
    "\n",
    "print(\"Note la plus basse:\", min(scores))\n",
    "print(\"Note la plus haute:\", max(scores))\n",
    "print(\"Ecart entre la note minimale et la note maximale:\", max(scores) - min(scores))\n",
    "print(\"Moyenne des notes:\", sum(scores) / len(scores))\n",
    "print(\"Mediane des notes:\", sorted(scores)[len(scores) // 2])"
   ]
  }
 ],
 "metadata": {
  "kernelspec": {
   "display_name": "3.10",
   "language": "python",
   "name": "python3"
  },
  "language_info": {
   "codemirror_mode": {
    "name": "ipython",
    "version": 3
   },
   "file_extension": ".py",
   "mimetype": "text/x-python",
   "name": "python",
   "nbconvert_exporter": "python",
   "pygments_lexer": "ipython3",
   "version": "3.10.5"
  }
 },
 "nbformat": 4,
 "nbformat_minor": 2
}

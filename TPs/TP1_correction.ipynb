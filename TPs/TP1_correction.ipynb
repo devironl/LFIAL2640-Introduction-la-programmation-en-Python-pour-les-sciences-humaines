{
 "cells": [
  {
   "cell_type": "markdown",
   "metadata": {},
   "source": [
    "# TP 1: Introduction à Python: variables, types de données et opérations de bases\n",
    "\n",
    "Ce notebook reprend 10 exercices à faire chez vous. Nous passerons à travers les exercices lors de la séance de TP sur Teams.\n",
    "\n",
    "A prendre en compte:\n",
    "\n",
    "- Nommez efficacement vos variables et attribuez leur le bon type\n",
    "- Pensez aux conventions de base de la syntaxe Python\n",
    "- Trouvez la solution la plus efficace au problème donné\n"
   ]
  },
  {
   "cell_type": "markdown",
   "metadata": {},
   "source": [
    "### 1. Calculer le BMI d'une personnalité\n",
    "\n",
    "Choisissez une personnalité connue et stockez son poids et sa taille dans deux variables. Calculez ensuite son BMI sur la base de ces deux valeurs et affichez le résultat"
   ]
  },
  {
   "cell_type": "code",
   "execution_count": null,
   "metadata": {},
   "outputs": [],
   "source": [
    "# Calcul du BMI de Stromae\n",
    "height = 1.90\n",
    "weigth = 70\n",
    "\n",
    "bmi = weigth / (height ** 2)\n",
    "# Division entière\n",
    "#bmi = weigth // (height ** 2)\n",
    "\n",
    "print(bmi)"
   ]
  },
  {
   "cell_type": "markdown",
   "metadata": {},
   "source": [
    "### 2. Conversion de votre âge en secondes\n",
    "\n",
    "Déclarez une variable qui contient votre âge et calculez le nombre de secondes que vous avez vécues (en supposant que c'est votre anniversaire aujourd'hui). Affichez le résultat"
   ]
  },
  {
   "cell_type": "code",
   "execution_count": null,
   "metadata": {},
   "outputs": [],
   "source": [
    "age = 36\n",
    "age_in_seconds = 36 * 365 * 24 * 60 * 60\n",
    "print(age_in_seconds)"
   ]
  },
  {
   "cell_type": "markdown",
   "metadata": {},
   "source": [
    "### 3. Calculer le prix en incluant la TVA\n",
    "\n",
    "Déclarez une variable représentant le prix d’un objet hors TVA, puis calculez la TVA et le prix total avec TVA incluse. Affichez les deux valeurs en supposant un taux de TVA de 21 %."
   ]
  },
  {
   "cell_type": "code",
   "execution_count": null,
   "metadata": {},
   "outputs": [],
   "source": [
    "price = 100\n",
    "vat = 100 * 0.21\n",
    "price_including_vat = price + vat\n",
    "\n",
    "print(\"Prix hors TVA:\", price)\n",
    "print(\"TVA:\", vat)\n",
    "print(\"Prix avec TVA:\", price_including_vat)\n"
   ]
  },
  {
   "cell_type": "markdown",
   "metadata": {},
   "source": [
    "### 4. Affichez si un nombre est pair ou impair\n",
    "\n",
    "Déclarez une variable représentant un nombre. En utilisant les opérateurs mathématiques, vérifiez si ce nombre est pair ou impair"
   ]
  },
  {
   "cell_type": "code",
   "execution_count": null,
   "metadata": {},
   "outputs": [],
   "source": [
    "number = 42\n",
    "print(number % 2 == 0)\n"
   ]
  },
  {
   "cell_type": "markdown",
   "metadata": {},
   "source": [
    "### 5. Créez une histoire\n",
    "\n",
    "Inventez une histoire de trois phrases qui utilise toutes les variables ci-dessous. Stockez votre histoire dans une variable puis affichez-la. "
   ]
  },
  {
   "cell_type": "code",
   "execution_count": null,
   "metadata": {},
   "outputs": [],
   "source": [
    "first_name_person1 = \"Alfred\"\n",
    "first_name_person2 = \"Bruce\"\n",
    "city = \"Louvain-la-Neuve\"\n",
    "year = \"1990\"\n",
    "place = \"le Goldway\"\n",
    "\n",
    "story = f\"\"\"\n",
    "{first_name_person1} et {first_name_person2} se sont rencontrés à {city}.\n",
    "C'était en {year}, lors de leur première annnée à l'université.\n",
    "Tous les mardis soit, ils se donnaient rendez-vous au {place} pour finir la soirée autour d'un menu Joker.\n",
    "\"\"\"\n",
    "print(story)"
   ]
  },
  {
   "cell_type": "markdown",
   "metadata": {},
   "source": [
    "### 6. Un peu de géométrie\n",
    "\n",
    "Calculez la surface d’un cercle dont le diamètre est de 3.15 mètres."
   ]
  },
  {
   "cell_type": "code",
   "execution_count": null,
   "metadata": {},
   "outputs": [],
   "source": [
    "diameter = 3.15\n",
    "radius = diameter / 2\n",
    "area = 3.14 * radius ** 2\n",
    "print(area)"
   ]
  },
  {
   "cell_type": "markdown",
   "metadata": {},
   "source": [
    "### 7. Conversion d'euros en dollars\n",
    "\n",
    "Déclarez une variable représentant le prix d’un objet en euros, convertissez-le en dollars, puis affichez le montant obtenu."
   ]
  },
  {
   "cell_type": "code",
   "execution_count": null,
   "metadata": {},
   "outputs": [],
   "source": [
    "price_euro = 90\n",
    "conversion_rate = 1.05\n",
    "price_dollar = price_euro * conversion_rate\n",
    "print(price_dollar)"
   ]
  },
  {
   "cell_type": "markdown",
   "metadata": {},
   "source": [
    "### 8. Arrondissement de note de cours\n",
    "\n",
    "Prenez le pourcentage obtenu à votre dernier examen, et reportez la note sur 20 en l'arrondissant à l'entier inférieur"
   ]
  },
  {
   "cell_type": "code",
   "execution_count": null,
   "metadata": {},
   "outputs": [],
   "source": [
    "percent_note = 75\n",
    "note = percent_note // 5\n",
    "print(note)"
   ]
  },
  {
   "cell_type": "markdown",
   "metadata": {},
   "source": [
    "### 9. Test de majorité\n",
    "\n",
    "Utilisez votre âge et des opérateurs de comparaison pour déterminer et afficher si vous êtes majeur ou non."
   ]
  },
  {
   "cell_type": "code",
   "execution_count": null,
   "metadata": {},
   "outputs": [],
   "source": [
    "age = 36\n",
    "print(age >= 18)"
   ]
  },
  {
   "cell_type": "markdown",
   "metadata": {},
   "source": [
    "### 10. Exercice final\n",
    "\n",
    "Vous travaillez pour une boutique en ligne qui vend des produits en Europe et aux États-Unis. Vous devez traiter une commande et afficher les informations détaillées sur le produit acheté, en effectuant plusieurs calculs et conversions.\n",
    "\n",
    "🎯 Objectifs de l’exercice :\n",
    "- Convertir un prix hors taxe en prix TTC avec un taux de TVA de 20%.\n",
    "- Convertir ce prix en dollars (taux de change : 1€ = 1.08$).\n",
    "- Vérifier si le client est majeur en fonction de son âge.\n",
    "- Afficher un résumé complet de la commande en format texte.\n",
    "\n",
    "Déclarez les variables nécessaires, effectuez les opérations et affichez le résultat de la commande.\n"
   ]
  },
  {
   "cell_type": "code",
   "execution_count": null,
   "metadata": {},
   "outputs": [],
   "source": [
    "price_euro = 100\n",
    "vat_rate = 0.20\n",
    "change_rate = 1.08\n",
    "vat = price_euro * vat_rate\n",
    "price_vat = price_euro + vat\n",
    "price_vat_dollar = price_vat * change_rate\n",
    "\n",
    "order_summary = f\"\"\"\n",
    "- Prix net en euros: {price_euro}\n",
    "- TVA ({vat_rate * 100} %) en euros: {vat}\n",
    "- Prix TVAC en euros: {price_vat}\n",
    "- Prix TVAC en dollars: {price_vat_dollar}\n",
    "\"\"\"\n",
    "print(order_summary)"
   ]
  }
 ],
 "metadata": {
  "kernelspec": {
   "display_name": "3.10",
   "language": "python",
   "name": "python3"
  },
  "language_info": {
   "codemirror_mode": {
    "name": "ipython",
    "version": 3
   },
   "file_extension": ".py",
   "mimetype": "text/x-python",
   "name": "python",
   "nbconvert_exporter": "python",
   "pygments_lexer": "ipython3",
   "version": "3.10.5"
  }
 },
 "nbformat": 4,
 "nbformat_minor": 2
}

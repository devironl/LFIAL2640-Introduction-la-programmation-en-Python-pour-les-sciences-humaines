{
 "cells": [
  {
   "cell_type": "markdown",
   "metadata": {},
   "source": [
    "# TP 3: Scraping et APIs\n",
    "\n",
    "\n",
    "Ce notebook reprend 2 exercices à faire chez vous. Chaque exercice vous demande de réaliser une série d'opérations. Utilisez les concepts vus au cours pour réaliser ce qui vous est demandé.\n",
    "\n",
    "Nous passerons à travers les exercices lors de la séance de TP sur Teams. \n"
   ]
  },
  {
   "cell_type": "markdown",
   "metadata": {},
   "source": [
    "### 1. Utilisation d'APIs\n",
    "\n",
    "- Cherchez sur Internet une API qui pourrait vous être utile dans le cadre de votre projet\n",
    "- Faites un appel à cette API à travers un script Python et exportez le résultat dans le format de fichier adéquat (`txt`, `json`, `xlsx`, `csv`...)\n",
    "\n",
    "Quelques sources d'inspiration:\n",
    "- https://free-apis.github.io/#/categories\n",
    "- https://www.odwb.be/pages/home/\n",
    "- https://huggingface.co/docs/inference-providers/index \n",
    "\n",
    "Il en existe plein d'autres ! Soyez créatifs :-)"
   ]
  },
  {
   "cell_type": "code",
   "execution_count": null,
   "metadata": {},
   "outputs": [],
   "source": [
    "# Votre code ici"
   ]
  },
  {
   "cell_type": "markdown",
   "metadata": {},
   "source": [
    "### 2. Scraping\n"
   ]
  },
  {
   "cell_type": "markdown",
   "metadata": {},
   "source": [
    "Dans cet exercice, nous vous proposons de créer un répertoire de citations. Concrètement, vous allez extraire des citations depuis le site https://quotes.toscrape.com, un site spécialement conçu pour les exercices de scraping. Vous stockerez ensuite les données dans un fichier csv.\n",
    "\n",
    "Voici les étapes à implémenter:\n",
    "\n",
    "1. Ouvrir les 10 premières page du site avec `requests` (cela nécessitera sans doute une boucle)\n",
    "2. A l'aide de `beautifulsoup`, Extraire chaque citation, avec les informations suivantes:\n",
    "- L'auteur ou l'autrice\n",
    "- Le texte de la citation\n",
    "- La liste des tags associés\n",
    "3. Stocker ces citations dans un DataFrame avec 3 colonnes\n",
    "4. Exporter le DataFrame dans un fichier `csv`"
   ]
  },
  {
   "cell_type": "code",
   "execution_count": null,
   "metadata": {},
   "outputs": [],
   "source": [
    "# Votre code ici"
   ]
  },
  {
   "cell_type": "markdown",
   "metadata": {},
   "source": []
  }
 ],
 "metadata": {
  "kernelspec": {
   "display_name": "venv",
   "language": "python",
   "name": "python3"
  },
  "language_info": {
   "codemirror_mode": {
    "name": "ipython",
    "version": 3
   },
   "file_extension": ".py",
   "mimetype": "text/x-python",
   "name": "python",
   "nbconvert_exporter": "python",
   "pygments_lexer": "ipython3",
   "version": "3.13.1"
  }
 },
 "nbformat": 4,
 "nbformat_minor": 2
}

{
 "cells": [
  {
   "cell_type": "markdown",
   "metadata": {},
   "source": [
    "# TP 2: Les structures de données en Python\n",
    "\n",
    "\n",
    "Ce notebook reprend 5 exercices à faire chez vous. Chaque exercice vous demande de réaliser une série d'opérations. Utilisez les concepts vus lors des deux premiers cours pour réaliser ce qui vous est demandé.\n",
    "\n",
    "Nous passerons à travers les exercices lors de la séance de TP sur Teams. \n"
   ]
  },
  {
   "cell_type": "markdown",
   "metadata": {},
   "source": [
    "### 1. Les femmes dans la littérature\n",
    "\n",
    "Une journaliste rédige un articles sur les 10 femmes qui ont marqué la littérature. Elle a établi son top 10 dans l'ordre suivant:\n",
    "\n",
    "1. Jane Austen \n",
    "2. Agatha Christie\n",
    "3. Virginia Woolf\n",
    "4. Simone de Beauvoir\n",
    "5. Mary Shelley\n",
    "6. Emily Brontë\n",
    "7. Charlotte Brontë\n",
    "8. Toni Morrison\n",
    "9. Margaret Atwood\n",
    "10. George Sand\n",
    "\n",
    "Pour aider l'éditeur à automatiser son travail:\n",
    "\n",
    "- Créez une liste en Python qui contient le nom des dix femmes\n",
    "- Vous n'êtes pas d'accord avec le choix de \"Toni Morrison\". Remplacez la par une autrice que vous appréciez\n",
    "- Affichez le top 3 uniquement\n",
    "- Affichez le \"pied du Podium\", c'est-à-dire la 4e et la 5e femme\n",
    "- Affichez les 3 dernières femmes de la liste\n",
    "- Affichez la liste dans l'ordre alphabétique"
   ]
  },
  {
   "cell_type": "code",
   "execution_count": null,
   "metadata": {},
   "outputs": [],
   "source": [
    "# Votre code ici"
   ]
  },
  {
   "cell_type": "markdown",
   "metadata": {},
   "source": [
    "### 2. Gestion des doublons\n",
    "\n",
    "Une bibliothécaire veut organiser les noms d’auteurs de son rayon en supprimant les doublons. Il vous fournit une liste d'auteurs et vous demande de la nettoyer:\n",
    "\n",
    "- Supprimez les doublons de la liste\n",
    "- Vérifiez que \"Proust\" est dans la liste\n",
    "- Si ce n'est pas le cas, ajoutez-le\n",
    "- Affichez le nombre total d'auteurs uniques"
   ]
  },
  {
   "cell_type": "code",
   "execution_count": null,
   "metadata": {},
   "outputs": [],
   "source": [
    "authors = [\"Flaubert\", \"Hugo\", \"Zola\", \"Camus\", \"Simenon\", \"Gide\", \"Duras\", \"Colette\", \"Sartre\"]\n",
    "# Votre code ici"
   ]
  },
  {
   "cell_type": "markdown",
   "metadata": {},
   "source": [
    "### 3. Top 10 des prénoms en France et en Belgique\n",
    "\n",
    "L'Office national des statistiques vous fournit le top 20 des prénoms en France et en Belgique:\n",
    "\n",
    "- Trouvez les prénoms communs aux deux classements et comptez -les\n",
    "- Trouvez les prénoms qui apparaissent dans le top 20 français, mais pas dans le top Belge\n",
    "- Trouvez les prénoms qui ne se trouvent que dans un des classements\n",
    "- Vérifiez si votre prénom se trouve dans le top 20 des prénoms belges."
   ]
  },
  {
   "cell_type": "code",
   "execution_count": null,
   "metadata": {},
   "outputs": [],
   "source": [
    "top20_france = {\"Gabriel\", \"Léo\", \"Raphaël\", \"Maël\", \"Louis\", \"Louise\", \"Ambre\", \"Noah\", \"Alba\", \"Jules\", \"Adam\", \"Arthur\", \"Jade\", \"Eden\", \"Emma\", \"Isaac\", \"Liam\", \"Sacha\", \"Rose\", \"Eva\"}\n",
    "top20_belgium = {\"Noah\",\"Olivia\",\"Arthur\",\"Liam\",\"Adam\",\"Louis\",\"Jules\",\"Emma\",\"Lucas\",\"Gabriel\",\"Louise\",\"Sofia\",\"Lina\",\"Alice\",\"Eva\",\"Anna\",\"Victor\",\"Mila\",\"Juliette\",\"Matteo\"}\n",
    "\n",
    "# Votre code ici\n"
   ]
  },
  {
   "cell_type": "markdown",
   "metadata": {},
   "source": [
    "### 4. Évènements historiques\n",
    "\n",
    "En tant qu’historiens, vous souhaitez mémoriser les dates clés de l’histoire. Heureusement, Python propose une structure adaptée pour cela.\n",
    "\n",
    "Modifiez la liste suivante pour qu'elle contienne les 10 dates que vous voulez mémoriser.\n",
    "- Affichez le type du premier élément de la liste\n",
    "- Affichez la date du dernier élément de la liste\n",
    "- Supprimez le premier élément de la liste\n",
    "- Ajoutez un évènement majeur à la liste\n",
    "- Affichez une phrase autour du 3e élément de la liste: \"En XXX, a eu lieu YYY\""
   ]
  },
  {
   "cell_type": "code",
   "execution_count": null,
   "metadata": {},
   "outputs": [],
   "source": [
    "key_dates = [(-476, \"Chute de l’Empire romain d’Occident\"), (1492, \"Découverte de l’Amérique\"), (1789, \"Prise de la Bastille\"), (1945, \"Fin de la Seconde Guerre mondiale\")]\n",
    "\n",
    "# Votre code ici"
   ]
  },
  {
   "cell_type": "markdown",
   "metadata": {},
   "source": [
    "### 5. Analysez votre session de janvier\n",
    "\n",
    "Vous êtes étudiant.e et vous voulez analyser vos résultats de la session de janvier pour voir où sont vos forces et vos faiblesses. A l'aide de ce qu'on à vu au cours:\n",
    "\n",
    "- Créez une liste qui reprend toutes les notes de vos examens de janvier\n",
    "- Affichez votre note la plus basse\n",
    "- Affichez votre note la plus haute\n",
    "- Affichez l'écart entre votre note la plus haute et la note la plus basse\n",
    "- Calculez la note moyenne de votre session\n",
    "- Calculez la note médiane de votre session"
   ]
  },
  {
   "cell_type": "code",
   "execution_count": 1,
   "metadata": {},
   "outputs": [],
   "source": [
    "# Votre code ici"
   ]
  }
 ],
 "metadata": {
  "kernelspec": {
   "display_name": "venv",
   "language": "python",
   "name": "python3"
  },
  "language_info": {
   "codemirror_mode": {
    "name": "ipython",
    "version": 3
   },
   "file_extension": ".py",
   "mimetype": "text/x-python",
   "name": "python",
   "nbconvert_exporter": "python",
   "pygments_lexer": "ipython3",
   "version": "3.13.1"
  }
 },
 "nbformat": 4,
 "nbformat_minor": 2
}

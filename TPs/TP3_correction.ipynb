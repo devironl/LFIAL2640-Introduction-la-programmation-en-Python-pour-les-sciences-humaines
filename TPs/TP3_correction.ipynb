{
 "cells": [
  {
   "cell_type": "markdown",
   "metadata": {},
   "source": [
    "# TP 3: Conditions et Boucles\n",
    "\n",
    "\n",
    "Ce notebook reprend 5 exercices à faire chez vous. Chaque exercice vous demande de réaliser une série d'opérations. Utilisez les concepts vus lors des trois premiers cours pour réaliser ce qui vous est demandé.\n",
    "\n",
    "Nous passerons à travers les exercices lors de la séance de TP sur Teams. \n"
   ]
  },
  {
   "cell_type": "markdown",
   "metadata": {},
   "source": [
    "### 1. Les années marquantes de l'Histoire\n",
    "\n",
    "- Créez une structure de données qui répertorie des années qui ont marqué l'histoire. Votre structure ne doit comprendre que les années, vous ne devez stocker aucune autre information.  \n",
    "- Demandez à l'utilisateur d'entrer **deux années** : une **année de début** et une **année de fin** pour définir une période à analyser.  \n",
    "- Vérifiez la validité des entrées:  \n",
    "   - Assurez-vous que l’**année de fin** est bien **postérieure** à l’**année de début**.  \n",
    "   - Si ce n’est pas le cas, affichez un message d’erreur et redemandez les valeurs.  \n",
    "- Parcourez toutes les années de l'intervalle défini par l'utilisateur.  \n",
    "   - Affichez uniquement les **années marquantes** qui figurent dans votre structure initiale.  \n",
    "   - Ignorez les années sans événement enregistré.\n"
   ]
  },
  {
   "cell_type": "code",
   "execution_count": null,
   "metadata": {},
   "outputs": [],
   "source": [
    "important_years = {1914, 1918, 1929, 1939, 1945, 1969, 1989, 2001, 2008, 2020}\n",
    "start_year = int(input(\"Entrez une année de début : \"))\n",
    "end_year = int(input(\"Entrez une année de fin : \"))\n",
    "\n",
    "while start_year > end_year:\n",
    "    print(\"L'année de début doit être inférieure à l'année de fin\")\n",
    "    start_year = int(input(\"Entrez une année de début : \"))\n",
    "    end_year = int(input(\"Entrez une année de fin : \"))\n",
    "\n",
    "while start_year <= end_year:\n",
    "    if start_year in important_years:\n",
    "        print(f\"{start_year} est une année importante\")\n",
    "    start_year += 1"
   ]
  },
  {
   "cell_type": "markdown",
   "metadata": {},
   "source": [
    "### 2. Les auditoires de Louvain-la-Neuve\n",
    "\n",
    "Le code suivant parcourt une liste d'auditoires de LLN et filtre la liste pour éliminer les auditoires de moins de 100 places et de plus de 500 places. Réécrivez le code suivant en utilisant une **list comprehension** afin de le rendre plus concis."
   ]
  },
  {
   "cell_type": "code",
   "execution_count": null,
   "metadata": {},
   "outputs": [],
   "source": [
    "auditoriums = [\n",
    "    (\"Socrate 10\", 500),\n",
    "    (\"Socrate 30\", 15),\n",
    "    (\"Sciences 10\", 500),\n",
    "    (\"Studio 11\", 200),\n",
    "    (\"Coubertin 10\", 99)\n",
    "]\n",
    "\n",
    "# Filtrer sur les auditoires de plus de 100 places et de moins de 500 places et ne garder que leurs noms dans une nouvelle liste\n",
    "# large_auditoriums = []\n",
    "# for auditorium in auditoriums:\n",
    "#     if auditorium[1] >= 100 and auditorium[1] <= 500:\n",
    "#         large_auditoriums.append(auditorium[0])\n",
    "# print(large_auditoriums)\n",
    "\n",
    "# List comprehension\n",
    "large_auditoriums = [auditorium[0] for auditorium in auditoriums if auditorium[1] >= 100 and auditorium[1] <= 500]\n",
    "print(large_auditoriums)"
   ]
  },
  {
   "cell_type": "markdown",
   "metadata": {},
   "source": [
    "### 3. Différentes façons de boucler\n",
    "\n",
    "Vous recevez une liste de noms de journaux belges. A partir de cette liste, on vous demande de réaliser les opérations suivantes:\n",
    "\n",
    "- Utiliser une boucle `for` pour afficher la longueur de chaque titre\n",
    "- Utiliser une boucle `while` pour afficher uniquement les titres contenant plus de 10 caractères.\n",
    "- Utiliser une `list comprehension` pour créer une nouvelle liste contenant uniquement les titres qui commencent par la lettre \"L\"."
   ]
  },
  {
   "cell_type": "code",
   "execution_count": null,
   "metadata": {},
   "outputs": [],
   "source": [
    "newspapers = [\"La Libre Belgique\", \"Le Soir\", \"La Dernière Heure\", \"De Morgen\", \"Het Laatste Nieuws\", \"De Tijd\", \"De Standaard\", \"Gazet van Antwerpen\", \"Het Nieuwsblad\", \"Het Belang van Limburg\"]\n",
    "\n",
    "# Afficher la longueur des titres\n",
    "for newspaper in newspapers:\n",
    "    print(len(newspaper))\n",
    "    \n",
    "# Afficher les titres qui ont plus de 10 caractères\n",
    "i = 0\n",
    "while i < len(newspapers):\n",
    "    newspaper = newspapers[i]\n",
    "    if len(newspaper) > 10:\n",
    "        print(newspaper)\n",
    "    i += 1\n",
    "\n",
    "# Liste qui contient les titres commençant par la lettre \"L\"\n",
    "newspapers_starting_with_l = [newspaper for newspaper in newspapers if newspaper[0]]\n",
    "print(newspapers_starting_with_l)"
   ]
  },
  {
   "cell_type": "markdown",
   "metadata": {},
   "source": [
    "### 4. Analyse linguistique\n",
    "\n",
    "Vous effectuez une analyse linguistique et recevez un texte structuré sous forme d’une liste de phrases. Chaque phrase est représentée sous forme d’une liste de tuples, où chaque élément contient :\n",
    "\n",
    "1.\tLe mot (forme fléchie dans la phrase)\n",
    "2.\tSon lemme (forme de base)\n",
    "3.\tSa catégorie grammaticale\n",
    "\n",
    "Extrayez tous les **substantifs (NOUN)** du texte, et affichez leur lemme:"
   ]
  },
  {
   "cell_type": "code",
   "execution_count": 15,
   "metadata": {},
   "outputs": [],
   "source": [
    "text = [\n",
    "    [\n",
    "        (\"Les\", \"le\", \"DET\"),\n",
    "        (\"scientifiques\", \"scientifique\", \"NOUN\"),\n",
    "        (\"étudient\", \"étudier\", \"VERB\"),\n",
    "        (\"l'\", \"le\", \"DET\"),\n",
    "        (\"intelligence\", \"intelligence\", \"NOUN\"),\n",
    "        (\"artificielle\", \"artificiel\", \"ADJ\"),\n",
    "        (\"et\", \"et\", \"CCONJ\"),\n",
    "        (\"son\", \"son\", \"DET\"),\n",
    "        (\"impact\", \"impact\", \"NOUN\"),\n",
    "        (\"sur\", \"sur\", \"ADP\"),\n",
    "        (\"la\", \"le\", \"DET\"),\n",
    "        (\"société\", \"société\", \"NOUN\"),\n",
    "        (\".\", \".\", \"PUNCT\")\n",
    "    ],\n",
    "    [\n",
    "        (\"Les\", \"le\", \"DET\"),\n",
    "        (\"nouvelles\", \"nouveau\", \"ADJ\"),\n",
    "        (\"mesures\", \"mesure\", \"NOUN\"),\n",
    "        (\"environnementales\", \"environnemental\", \"ADJ\"),\n",
    "        (\"réduisent\", \"réduire\", \"VERB\"),\n",
    "        (\"les\", \"le\", \"DET\"),\n",
    "        (\"émissions\", \"émission\", \"NOUN\"),\n",
    "        (\"de\", \"de\", \"ADP\"),\n",
    "        (\"carbone\", \"carbone\", \"NOUN\"),\n",
    "        (\".\", \".\", \"PUNCT\")\n",
    "    ],\n",
    "    [\n",
    "        (\"Le\", \"le\", \"DET\"),\n",
    "        (\"marché\", \"marché\", \"NOUN\"),\n",
    "        (\"des\", \"de\", \"ADP\"),\n",
    "        (\"cryptomonnaies\", \"cryptomonnaie\", \"NOUN\"),\n",
    "        (\"connaît\", \"connaître\", \"VERB\"),\n",
    "        (\"une\", \"un\", \"DET\"),\n",
    "        (\"forte\", \"fort\", \"ADJ\"),\n",
    "        (\"volatilité\", \"volatilité\", \"NOUN\"),\n",
    "        (\"cette\", \"ce\", \"DET\"),\n",
    "        (\"année\", \"année\", \"NOUN\"),\n",
    "        (\".\", \".\", \"PUNCT\")\n",
    "    ]\n",
    "]"
   ]
  },
  {
   "cell_type": "code",
   "execution_count": null,
   "metadata": {},
   "outputs": [],
   "source": [
    "for sentence in text:\n",
    "    for word in sentence:\n",
    "        if word[2] == \"NOUN\":\n",
    "            print(word[1])"
   ]
  },
  {
   "cell_type": "markdown",
   "metadata": {},
   "source": [
    "### 5. Le Type-Token Ratio (TTR)\n",
    "\n",
    "Le **TTR (Type-Token Ratio)** est une mesure de richesse lexicale utilisée en linguistique et en analyse de texte. Il permet d’évaluer la diversité du vocabulaire dans un texte.\n",
    "\n",
    "Le TTR se calcule en divisant le nombre de mots uniques (_types_) par le nombre total de mots dans le texte (_tokens_) \n",
    "\n",
    "- Un **TTR élevé** indique une grande diversité lexicale (beaucoup de mots uniques par rapport au total des mots).  \n",
    "- Un **TTR faible** signifie que le texte contient de nombreuses répétitions.  \n",
    "\n",
    "Calculez le **TTR** du texte de l'exercice précédent en prenant en compte les mots qui le composent.\n",
    "\n",
    "Affichez ensuite une **interprétation** du score obtenu selon les critères suivants :  \n",
    "\n",
    "| TTR (%)  | Interprétation |\n",
    "|----------|----------------|\n",
    "| < 25%    | Ce texte présente un vocabulaire très pauvre |\n",
    "| 25-50%   | Ce texte présente un vocabulaire pauvre |\n",
    "| 50-75%   | Ce texte présente un vocabulaire riche |\n",
    "| > 75%    | Ce texte présente un vocabulaire très riche |\n"
   ]
  },
  {
   "cell_type": "code",
   "execution_count": null,
   "metadata": {},
   "outputs": [],
   "source": [
    "# Récupération de tous les tokens\n",
    "tokens = []\n",
    "for sentence in text:\n",
    "    for word in sentence:\n",
    "        if word != \".\":\n",
    "            tokens.append(word[0])\n",
    "\n",
    "# Liste du vocabulaire (mots uniques) via un cast de la liste des tokens en set\n",
    "types = set(tokens)\n",
    "\n",
    "# Calcul du Type-Token Ratio\n",
    "ttr = len(types) / len(tokens)\n",
    "\n",
    "# Affichage de la valeur\n",
    "print(ttr)\n",
    "\n",
    "# Affichage d'un message sur la diversité du vocabulaire du texte\n",
    "if ttr < 0.25:\n",
    "    print(\"Ce texte propose un vocabulaire très pauvre.\")\n",
    "elif ttr < 0.50:\n",
    "    print(\"Ce texte propose un vocabulaire pauvre.\")\n",
    "elif ttr < 0.75:\n",
    "    print(\"Ce texte propose un vocabulaire riche.\")\n",
    "else:\n",
    "    print(\"Ce texte propose un vocabulaire très riche.\")  "
   ]
  }
 ],
 "metadata": {
  "kernelspec": {
   "display_name": "3.10",
   "language": "python",
   "name": "python3"
  },
  "language_info": {
   "codemirror_mode": {
    "name": "ipython",
    "version": 3
   },
   "file_extension": ".py",
   "mimetype": "text/x-python",
   "name": "python",
   "nbconvert_exporter": "python",
   "pygments_lexer": "ipython3",
   "version": "3.10.5"
  }
 },
 "nbformat": 4,
 "nbformat_minor": 2
}

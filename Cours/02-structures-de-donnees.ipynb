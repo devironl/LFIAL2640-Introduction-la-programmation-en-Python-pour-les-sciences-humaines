{
 "cells": [
  {
   "cell_type": "markdown",
   "id": "13e98362",
   "metadata": {},
   "source": [
    "# Cours 2: Les structures de données en Python\n",
    "\n",
    "## Introduction\n",
    "\n",
    "Les structures de données sont des outils essentiels en programmation. Elles permettent de stocker et d’organiser l’information efficacement. Aujourd’hui, nous allons découvrir trois structures de données fondamentales en Python :\n",
    "\n",
    "- **Les listes** (`list`), qui permettent de stocker plusieurs valeurs et de les modifier.\n",
    "- **Les tuples** (`tuple`), qui ressemblent aux listes mais sont immuables.\n",
    "- **Les ensembles** (`set`), qui stockent des éléments uniques sans ordre particulier.\n",
    "- **Les dictionnaires** (`dict`), qui collectionnent des paires clé-valeur, permettant une recherche rapide. Nous ne l'abordons pas dans le cours d'aujourd'hui.\n",
    "\n",
    "Ces structures sont très utilisées en sciences humaines pour stocker et manipuler des données textuelles, des résultats d’enquête ou des collections d’éléments.\n"
   ]
  },
  {
   "cell_type": "markdown",
   "id": "0a10273c",
   "metadata": {},
   "source": [
    "## Les listes (`list`)\n",
    "\n",
    "Une liste est une **collection ordonnée et modifiable** d’éléments, comme une liste de cours, une liste de pays ou une série de nombres. On la définit avec des crochets `[]` et on peut y stocker des nombres, des chaînes de caractères ou d'autres objets. Comme nous l’avons vu dans le cours précédent, il est nécessaire de leur attribuer un nom de variable au moment de leur création. Ce nom doit être explicite et représentatif du contenu de la liste afin d’en faciliter la compréhension et l’utilisation dans le code.\n",
    "\n",
    "Nous allons créer ici la liste de tous les premiers ministres belges depuis 1830:"
   ]
  },
  {
   "cell_type": "code",
   "execution_count": 1,
   "id": "2cf86b00",
   "metadata": {},
   "outputs": [],
   "source": [
    "prime_ministers = [\n",
    "    \"Étienne de Gerlache\", \"Joseph Lebeau\", \"Félix de Mûelenaere\", \"Albert Goblet d'Alviella\", \"Barthélemy de Theux de Meylandt\",\n",
    "    \"Joseph Lebeau\", \"Jean-Baptiste Nothomb\", \"Sylvain Van de Weyer\", \"Barthélemy de Theux de Meylandt\", \"Charles Rogier\", \"Henri de Brouckère\", \n",
    "    \"Pierre De Decker\", \"Charles Rogier\", \"Walthère Frère-Orban\", \"Jules d'Anethan\", \"Barthélemy de Theux de Meylandt\", \"Jules Malou\", \"Walthère Frère-Orban\",\n",
    "    \"Jules Malou\", \"Auguste Beernaert\", \"Jules de Burlet\", \"Paul de Smet de Naeyer\", \"Jules Vandenpeereboom\", \"Paul de Smet de Naeyer\", \"Jules de Trooz\",\n",
    "    \"François Schollaert\", \"Charles de Broqueville\", \"Gérard Cooreman\", \"Léon Delacroix\", \"Henry Carton de Wiart\", \"Georges Theunis\", \"Aloys Van de Vyvere\",\n",
    "    \"Prosper Poullet\", \"Henri Jaspar\", \"Jules Renkin\", \"Charles de Broqueville\", \"Georges Theunis\", \"Paul Van Zeeland\", \"Paul-Émile Janson\", \"Paul-Henri Spaak\",\n",
    "    \"Hubert Pierlot\", \"Achille van Acker\", \"Paul-Henri Spaak\", \"Achille van Acker\", \"Camille Huysmans\", \"Paul-Henri Spaak\", \"Gaston Eyskens\", \"Jean Duvieusart\",\n",
    "    \"Joseph Pholien\", \"Jean Van Houtte\", \"Achille van Acker\", \"Gaston Eyskens\", \"Théo Lefèvre\", \"Pierre Harmel\", \"Paul Vanden Boeynants\", \"Gaston Eyskens\",\n",
    "    \"Edmond Leburton\", \"Leo Tindemans\", \"Paul Vanden Boeynants\", \"Wilfried Martens\", \"Mark Eyskens\", \"Wilfried Martens\", \"Jean-Luc Dehaene\", \"Guy Verhofstadt\",\n",
    "    \"Yves Leterme\", \"Herman Van Rompuy\", \"Yves Leterme\", \"Elio Di Rupo\", \"Charles Michel\", \"Sophie Wilmès\", \"Alexander De Croo\", \"Bart De Wever\"\n",
    "]"
   ]
  },
  {
   "cell_type": "markdown",
   "id": "c6951ef4",
   "metadata": {},
   "source": [
    "### Accéder aux éléments d’une liste\n",
    "\n",
    "Puisque les listes sont ordonnées, il est possible de récupérer un élément en utilisant sa position dans la liste. Attention, en Python, la numérotation commence à `0`, ce qui peut sembler contre-intuitif au début.\n",
    "\n",
    "Par exemple, pour obtenir le premier Premier Ministre belge dans notre liste, on procède de la façon suivante :"
   ]
  },
  {
   "cell_type": "code",
   "execution_count": null,
   "id": "b98ce31b",
   "metadata": {},
   "outputs": [],
   "source": [
    "print(prime_ministers[0])"
   ]
  },
  {
   "cell_type": "markdown",
   "id": "1a4c0a21",
   "metadata": {},
   "source": [
    "Pour récupérer le 5e Premier Ministre dans la liste, il faut se rappeler que les indices en Python commencent à 0 et non à 1.\n",
    "\n",
    "Cela signifie que :\n",
    "- Le 1er élément est à l’index `0`,\n",
    "- Le 2e élément est à l’index `1`,\n",
    "- Le 3e élément est à l’index `2`,\n",
    "- ...et ainsi de suite.\n",
    "\n",
    "Sur cette base-là, modifiez le code ci-dessous pour obtenir le 21e Premier Ministre belge"
   ]
  },
  {
   "cell_type": "code",
   "execution_count": null,
   "id": "f675d2f5",
   "metadata": {},
   "outputs": [],
   "source": [
    "print(prime_ministers[0])"
   ]
  },
  {
   "cell_type": "markdown",
   "id": "4764200a",
   "metadata": {},
   "source": [
    "On peut également _lire_ la liste à l'envers. L'indice `-1` permet de récupérer le dernier élément de la liste, l'indice `-2` l'avant-dernier, et ainsi de suite.\n",
    "\n",
    "En suivant cette logique, modifiez le code ci-dessous afin de récupérer le 5ᵉ Premier Ministre en partant de la fin."
   ]
  },
  {
   "cell_type": "code",
   "execution_count": null,
   "id": "63f9fb63",
   "metadata": {},
   "outputs": [],
   "source": [
    "print(prime_ministers[-1])"
   ]
  },
  {
   "cell_type": "markdown",
   "id": "43a51cf5",
   "metadata": {},
   "source": [
    "Il est également possible d’extraire une portion de la liste en utilisant la notation de **slicing**, qui permet de spécifier une plage d’indices. Par exemple, pour obtenir les 2e à 17e Premiers Ministres, on peut utiliser cette méthode:"
   ]
  },
  {
   "cell_type": "code",
   "execution_count": null,
   "id": "1bddf988",
   "metadata": {},
   "outputs": [],
   "source": [
    "print(prime_ministers[1:5])"
   ]
  },
  {
   "cell_type": "markdown",
   "id": "ff257b6b",
   "metadata": {},
   "source": [
    "Dans le slicing, l'indice de début (avant les `:`) est compris, tandis que l'indice de fin (après les `:`) est exclus. Il est aussi possible d’utiliser des indices négatifs pour sélectionner des éléments en partant de la fin de la liste. Dans ce cas, l'indice de début (à droite des `:`) est inclus tandis que l'indice de fin (à gauche des  `:`) est exclus.\n",
    "\n",
    "Sur la base de ce qu'on a vu plus haut, modifiez le code ci-dessous pour récupérer les 5 derniers Premiers Ministres belge:"
   ]
  },
  {
   "cell_type": "code",
   "execution_count": null,
   "id": "c4260fd6",
   "metadata": {},
   "outputs": [],
   "source": [
    "print(prime_ministers[0:5])"
   ]
  },
  {
   "cell_type": "markdown",
   "id": "c9e84bea",
   "metadata": {},
   "source": [
    "Lorsqu’on utilise le **slicing** sans préciser l’un des indices, Python applique des valeurs par défaut :  \n",
    "\n",
    "- Si **l’indice de début** est omis (`liste[:n]`), la sélection commence automatiquement **depuis le premier élément**.  \n",
    "- Si **l’indice de fin** est omis (`liste[n:]`), la sélection s’étend **jusqu’au dernier élément inclus**.  \n",
    "- Si **les deux indices** sont omis (`liste[:]`), cela crée une **copie complète** de la liste.  \n",
    "\n",
    "Cette notation est particulièrement utile pour récupérer une portion flexible de la liste sans avoir à compter précisément les indices.\n",
    "\n",
    "Modifiez le code ci-dessous pour afficher les 10 premiers et les 10 derniers Premiers Ministres:"
   ]
  },
  {
   "cell_type": "code",
   "execution_count": null,
   "id": "74a33ec5",
   "metadata": {},
   "outputs": [],
   "source": [
    "# Les 10 premiers\n",
    "print(prime_ministers[0:10])\n",
    "# Les 10 derniers\n",
    "print(prime_ministers[-11:-1])"
   ]
  },
  {
   "cell_type": "markdown",
   "id": "1fc0dbc9",
   "metadata": {},
   "source": [
    "### Opérations sur les listes\n",
    "\n",
    "En plus d'être ordonnées, les listes sont également modifiables. Les principales opérations sont:\n",
    "\n",
    "- `append(\"xxx\")`: ajouter un élément `\"xxx\"` en fin de liste\n",
    "- `remove(\"xxx)`: supprimer la première occurence de la valeur `\"xxx\"`\n",
    "- `pop(i)`: supprimer l'élément à de la liste qui se trouve à l'indice `i`\n",
    "- `reverse()`: inverser l'ordre des éléments de la liste\n",
    "- `sort()`: trier la liste dans l'ordre croissant\n",
    "- `sort(reverse=True)`: trier la liste dans l'ordre décroissant\n",
    "- On peut également modifier un élément de la liste en changeant sa valeur.\n",
    "- `in` permet de vérifier si un élément est dans la liste ou non. Il renvoie une valeur booléenne (`True` ou `False`)\n",
    "\n",
    "Utilisons toutes ces opérations séquentiellement dans les blocs de code suivants en se focalisant sur une copie de la liste des premiers ministres qui ne contient que les 10 derniers:"
   ]
  },
  {
   "cell_type": "code",
   "execution_count": null,
   "id": "8929801a",
   "metadata": {},
   "outputs": [],
   "source": [
    "# Extraction des 10 derniers premiers ministres et affichage de la liste\n",
    "last_prime_ministers = prime_ministers[-10:]\n",
    "print(last_prime_ministers)"
   ]
  },
  {
   "cell_type": "code",
   "execution_count": null,
   "id": "3b504355",
   "metadata": {},
   "outputs": [],
   "source": [
    "# Ajout d'un Premier Ministre à la liste\n",
    "last_prime_ministers.append(\"Paul Van Haver\")\n",
    "print(last_prime_ministers)"
   ]
  },
  {
   "cell_type": "code",
   "execution_count": null,
   "id": "05a534c3",
   "metadata": {},
   "outputs": [],
   "source": [
    "# Suppression de l'élément ajouté\n",
    "last_prime_ministers.remove(\"Paul Van Haver\")\n",
    "print(last_prime_ministers)"
   ]
  },
  {
   "cell_type": "code",
   "execution_count": null,
   "id": "0939381c",
   "metadata": {},
   "outputs": [],
   "source": [
    "# Suppression du premier élément de la liste\n",
    "last_prime_ministers.pop(0)\n",
    "print(last_prime_ministers)\n",
    "\n"
   ]
  },
  {
   "cell_type": "code",
   "execution_count": null,
   "id": "e0981f85",
   "metadata": {},
   "outputs": [],
   "source": [
    "# Supression du dernier élément de la liste\n",
    "last_prime_ministers.pop(-1)\n",
    "print(last_prime_ministers)"
   ]
  },
  {
   "cell_type": "code",
   "execution_count": null,
   "id": "4a895925",
   "metadata": {},
   "outputs": [],
   "source": [
    "# Inversion de la liste\n",
    "last_prime_ministers.reverse()\n",
    "print(last_prime_ministers)"
   ]
  },
  {
   "cell_type": "code",
   "execution_count": null,
   "id": "dff90272",
   "metadata": {},
   "outputs": [],
   "source": [
    "# Affichage dans l'ordre alphabétique\n",
    "last_prime_ministers.sort()\n",
    "print(last_prime_ministers)\n",
    "\n",
    "# Et dans l'ordre alphabétique inverse\n",
    "last_prime_ministers.sort(reverse=True)\n",
    "print(last_prime_ministers)"
   ]
  },
  {
   "cell_type": "code",
   "execution_count": null,
   "id": "e0a0590c",
   "metadata": {},
   "outputs": [],
   "source": [
    "# Changer le nom du premier élément de la liste par ses initiales\n",
    "last_prime_ministers[0] = \"YL\"\n",
    "print(last_prime_ministers)"
   ]
  },
  {
   "cell_type": "code",
   "execution_count": null,
   "id": "064c83e8",
   "metadata": {},
   "outputs": [],
   "source": [
    "# Vérifier si \"Guy Verhofstadt\" est dans la liste\n",
    "print(\"Guy Verhofstadt\" in last_prime_ministers)\n",
    "\n",
    "# Vérifie si \"Paul Van Haver\" est dans la liste\n",
    "print(\"Paul Van Haver\" in last_prime_ministers)"
   ]
  },
  {
   "cell_type": "markdown",
   "id": "955f45f6",
   "metadata": {},
   "source": [
    "### Un peu de maths\n",
    "\n",
    "Il est également possible de réaliser des opérations mathématiques simples sur les listes:\n",
    "\n",
    "- `len()` renvoie la taille de la liste\n",
    "- `sum()` renvoie la somme des éléments\n",
    "- `min()` renvoie la valeur minimale de la liste\n",
    "- `max()` renvoie la valeur maximale de la liste\n",
    "\n",
    "Imaginons que nous avons une liste contenant la population (en millions) de différents pays européens :"
   ]
  },
  {
   "cell_type": "code",
   "execution_count": null,
   "id": "0a7af3e0",
   "metadata": {},
   "outputs": [],
   "source": [
    "populations = [67, 83, 60, 47, 11, 38]  # France, Allemagne, Italie, Espagne, Belgique, Pologne\n",
    "\n",
    "# Taille de la liste (nombre de pays étudiés)\n",
    "print(f\"Nombre de pays étudiés : {len(populations)}\")\n",
    "\n",
    "# Population totale\n",
    "print(f\"Population totale : {sum(populations)} millions d'habitants\")\n",
    "\n",
    "# Pays le plus peuplé\n",
    "print(f\"Population maximale : {max(populations)} millions d'habitants\")\n",
    "\n",
    "# Pays le moins peuplé\n",
    "print(f\"Population minimale : {min(populations)} millions d'habitants\")"
   ]
  },
  {
   "cell_type": "markdown",
   "id": "6393639e",
   "metadata": {},
   "source": [
    "## Les tuples (`tuple`)\n",
    "\n",
    "Un tuple est une **collection ordonnée mais immuable**. Une fois défini, on ne peut plus modifier son contenu. \n",
    "\n",
    "On le définit avec des crochets `()` et, comme dans les listes, on peut y stocker des nombres, des chaînes de caractères ou d'autres objets.\n",
    "\n",
    "Il est intéressant de les utiliser quand on veut protéger des données contre des modifications accidentelles. On peut par exemple stocker les informations d'une capitale européenne en référençant son nom, sa latitude et sa longitude:\n"
   ]
  },
  {
   "cell_type": "code",
   "execution_count": null,
   "id": "3f56183b",
   "metadata": {},
   "outputs": [],
   "source": [
    "# Création d'un tuple\n",
    "city = (\"Bruxelles\", 50.499527, 4.475403)"
   ]
  },
  {
   "cell_type": "markdown",
   "id": "0f1532af",
   "metadata": {},
   "source": [
    "Bien qu’il soit possible d’accéder aux éléments d’un tuple par leur indice et d’en connaître la taille, toute tentative de modification entraînera une erreur:"
   ]
  },
  {
   "cell_type": "code",
   "execution_count": null,
   "id": "32774f61",
   "metadata": {},
   "outputs": [],
   "source": [
    "# Ces opérations fonctionnent\n",
    "print(city[0])\n",
    "print(len(city))"
   ]
  },
  {
   "cell_type": "code",
   "execution_count": null,
   "id": "ca56d41b",
   "metadata": {},
   "outputs": [],
   "source": [
    "# Ces opérations ne fonctionnent pas\n",
    "city.sort()\n",
    "city.reverse()\n",
    "city[0] = \"Paris\""
   ]
  },
  {
   "cell_type": "markdown",
   "id": "f32206e6",
   "metadata": {},
   "source": [
    "Il est intéressant aussi de combiner les deux types de structures de données. On peut par exemple stocker les informations de capitales européennes dans des listes de tuples !"
   ]
  },
  {
   "cell_type": "code",
   "execution_count": null,
   "id": "421d2f10",
   "metadata": {},
   "outputs": [],
   "source": [
    "cities = [\n",
    "    (\"Bruxelles\", 50.499527, 4.475403),\n",
    "    (\"Paris\", 48.856578, 2.351828),\n",
    "    (\"Berlin\", 52.524370, 13.410530),\n",
    "    (\"Madrid\", 40.416775, -3.703790),\n",
    "    (\"Rome\", 41.902783, 12.496366),\n",
    "    (\"Varsovie\", 52.229676, 21.012229)\n",
    "]\n",
    "\n",
    "# Afficher le premier élément de la liste et son type\n",
    "print(cities[0])\n",
    "print(type(cities[0]))\n"
   ]
  },
  {
   "cell_type": "markdown",
   "id": "8db8daed",
   "metadata": {},
   "source": [
    "**Exercice**: Ajoutez les informations de Londres à la liste et affiche la dernière capitale de la liste "
   ]
  },
  {
   "cell_type": "code",
   "execution_count": null,
   "id": "003e9558",
   "metadata": {},
   "outputs": [],
   "source": [
    "# Votre code ici"
   ]
  },
  {
   "cell_type": "markdown",
   "id": "113210ab",
   "metadata": {},
   "source": [
    "## Les ensembles (`set`)\n",
    "\n",
    "Un ensemble (`set`) est une collection **non ordonnée** d’éléments **uniques**. Il est utile pour:\n",
    "- Eliminer les doublons dans une liste.\n",
    "- Vérifier si un élément appartient à un ensemble. Cette opération est beaucoup plus rapide que dans une liste, car l’opération bénéficie d’une complexité optimisée, rendant la recherche quasi-instantanée.\n",
    "- Comparer des groupes d’éléments, comme en théorie des ensembles (union, intersection...)\n",
    "\n",
    "On le définit avec des crochets `{}`\n",
    "\n",
    "Créons un ensemble contenant les noms de toutes les provinces belges. Comme pour les listes et les tuples, nous pouvons ensuite afficher sa taille."
   ]
  },
  {
   "cell_type": "code",
   "execution_count": null,
   "id": "a358d817",
   "metadata": {},
   "outputs": [],
   "source": [
    "# Création d'un ensemble des provinces belges\n",
    "provinces = {\"Anvers\", \"Brabant flamand\", \"Brabant wallon\", \"Flandre-Occidentale\", \"Flandre-Orientale\", \"Hainaut\", \"Liège\", \"Limbourg\", \"Luxembourg\", \"Namur\"}\n",
    "print(provinces)\n",
    "print(type(provinces))\n",
    "print(len(provinces))"
   ]
  },
  {
   "cell_type": "markdown",
   "id": "33aa5a60",
   "metadata": {},
   "source": [
    "Les ensembles sont **modifiables**. Il est donc possible d'y ajouter ou d'y enlever des éléments"
   ]
  },
  {
   "cell_type": "code",
   "execution_count": null,
   "id": "e9fcbe37",
   "metadata": {},
   "outputs": [],
   "source": [
    "# Ajout d'un élément\n",
    "provinces.add(\"Bruxelles\")\n",
    "print(provinces)\n",
    "print(len(provinces))\n",
    "\n",
    "# Suppression d'un élément\n",
    "provinces.remove(\"Bruxelles\")\n",
    "print(len(provinces))"
   ]
  },
  {
   "cell_type": "markdown",
   "id": "6cdd7075",
   "metadata": {},
   "source": [
    "Les ensembles étant **non-ordonnées**, il n'est par contre pas possible d'afficher un élément selon sa position ou de trier les éléments: "
   ]
  },
  {
   "cell_type": "code",
   "execution_count": null,
   "id": "cd35d13a",
   "metadata": {},
   "outputs": [],
   "source": [
    "print(provinces[0])"
   ]
  },
  {
   "cell_type": "markdown",
   "id": "2fbe2018",
   "metadata": {},
   "source": [
    "Une utilisation courante des ensembles consiste à extraire les **éléments uniques** d’une liste. Pour cela, il suffit de convertir (caster) la liste en set, ce qui élimine automatiquement les doublons.\n",
    "\n",
    "Par exemple, en appliquant cette méthode à la liste des Premiers Ministres belges définie précédemment, on peut facilement déterminer le **nombre de personnes distinctes** ayant occupé cette fonction."
   ]
  },
  {
   "cell_type": "code",
   "execution_count": null,
   "id": "a73845d5",
   "metadata": {},
   "outputs": [],
   "source": [
    "# Affichons d'abord le nombre de premiers ministres de notre liste de base\n",
    "print(len(prime_ministers))"
   ]
  },
  {
   "cell_type": "code",
   "execution_count": null,
   "id": "5e97650b",
   "metadata": {},
   "outputs": [],
   "source": [
    "# Transformons ensuite la liste en un ensemble et affichons le nombre d'éléments\n",
    "prime_ministers_set = set(prime_ministers)\n",
    "print(len(prime_ministers_set))"
   ]
  },
  {
   "cell_type": "markdown",
   "id": "2190bc52",
   "metadata": {},
   "source": [
    "Comme mentionné précédemment, les opérations de recherche dans un ensemble sont bien plus rapides que dans une liste.\n",
    "\n",
    "- Dans une liste, Python doit parcourir tous les éléments un par un jusqu’à trouver une correspondance (ou arriver à la fin si l’élément n’est pas présent). Cette opération a une complexité de `O(n)` (`n` corresponsant à la taille de la liste). Cela signifie qu’elle devient plus lente si la liste est longue.\n",
    "- Dans un ensemble, grâce à l’optimisation des tables de hachage, la recherche se fait en temps quasi constant (`O(1)` en moyenne), ce qui la rend beaucoup plus rapide, même avec un grand nombre d’éléments.\n",
    "\n",
    "Lorsqu’on doit vérifier souvent la présence d’un élément dans une collection de données, un ensemble est donc bien plus efficace qu’une liste.\n",
    "\n",
    "Faisons la comparaison ici en recherchant `Sophie Wilmès` dans la liste et dans l'ensemble des premiers ministres et en calculant le temps d'exécution des deux opérations.\n"
   ]
  },
  {
   "cell_type": "code",
   "execution_count": null,
   "id": "9c16cbef",
   "metadata": {},
   "outputs": [],
   "source": [
    "import time\n",
    "\n",
    "# Recherche de \"Sophie Wilmès\" dans la liste\n",
    "start = time.perf_counter()\n",
    "\"Sophie Wilmès\" in prime_ministers\n",
    "end = time.perf_counter()\n",
    "print(f\"Temps d'exécution : {end - start:.6f} secondes\")\n",
    "\n",
    "# Recherche de \"Sophie Wilmès\" dans l'ensemble\n",
    "start = time.perf_counter()\n",
    "\"Sophie Wilmès\" in prime_ministers_set\n",
    "end = time.perf_counter()\n",
    "\n",
    "print(f\"Temps d'exécution : {end - start:.6f} secondes\")"
   ]
  },
  {
   "cell_type": "markdown",
   "id": "c93104d3",
   "metadata": {},
   "source": [
    "### Opérations logiques\n",
    "\n",
    "Les sets permettent de comparer des groupes d’éléments, comme en théorie des ensembles.\n",
    "\n",
    "On peut par exemple comparer les thèmes saillants chez deux philosophes en utilisant deux ensembles:"
   ]
  },
  {
   "cell_type": "code",
   "execution_count": 26,
   "id": "85696fab",
   "metadata": {},
   "outputs": [],
   "source": [
    "rousseau = {\"nature\", \"société\", \"contrat\", \"homme\", \"égalité\", \"morale\"}\n",
    "voltaire = {\"raison\", \"liberté\", \"contrat\", \"morale\", \"tolérance\", \"homme\"}"
   ]
  },
  {
   "cell_type": "markdown",
   "id": "8dac0542",
   "metadata": {},
   "source": [
    "**Intersection**: concepts communs:"
   ]
  },
  {
   "cell_type": "code",
   "execution_count": null,
   "id": "6f483717",
   "metadata": {},
   "outputs": [],
   "source": [
    "print(rousseau & voltaire)\n",
    "# Ou: rousseau.intersection(voltaire)"
   ]
  },
  {
   "cell_type": "markdown",
   "id": "8c6d6cca",
   "metadata": {},
   "source": [
    "**Union**: tous les concepts ensemble:"
   ]
  },
  {
   "cell_type": "code",
   "execution_count": null,
   "id": "0d9c7773",
   "metadata": {},
   "outputs": [],
   "source": [
    "print(rousseau | voltaire)\n",
    "# Ou: rousseau.union(voltaire)\n"
   ]
  },
  {
   "cell_type": "markdown",
   "id": "fcebd150",
   "metadata": {},
   "source": [
    "**Différence**: les concepts utilisés uniquement par un des auteurs"
   ]
  },
  {
   "cell_type": "code",
   "execution_count": null,
   "id": "ac59b904",
   "metadata": {},
   "outputs": [],
   "source": [
    "print(rousseau - voltaire)\n",
    "# Ou print(rousseau.difference(voltaire))"
   ]
  },
  {
   "cell_type": "markdown",
   "id": "74a45244",
   "metadata": {},
   "source": [
    "**Différence symétrique**: mots mentionnés par l’un ou l’autre, mais pas par les deux\n"
   ]
  },
  {
   "cell_type": "code",
   "execution_count": null,
   "id": "4d13077f",
   "metadata": {},
   "outputs": [],
   "source": [
    "print(rousseau ^ voltaire)\n",
    "#Ou print(rousseau.symmetric_difference(voltaire))"
   ]
  },
  {
   "cell_type": "markdown",
   "id": "37d04158",
   "metadata": {},
   "source": [
    "## Conclusion\n",
    "\n",
    "Les listes, tuples et ensembles sont des structures de données fondamentales en Python :\n",
    "\n",
    "- **Les listes** sont modifiables et ordonnées.\n",
    "- **Les tuples** sont ordonnés mais immuables.\n",
    "- **Les ensembles** stockent des éléments uniques et ne garantissent pas l’ordre.\n",
    "\n",
    "La tableau ci-dessous récapitule ce que nous avons vu dans ce cours:\n",
    "\n",
    "| Caractéristique       | Listes (`list`)            | Tuples (`tuple`)           | Ensembles (`set`)         |\n",
    "|-----------------------|---------------------------|----------------------------|---------------------------|\n",
    "| **Définition**        | `[]` crochets             | `()` parenthèses           | `{}` accolades           |\n",
    "| **Ordre préservé**    | ✅ Oui                     | ✅ Oui                      | ❌ Non                    |\n",
    "| **Modifiable (mutable)** | ✅ Oui                   | ❌ Non                      | ✅ Oui                    |\n",
    "| **Éléments dupliqués** | ✅ Autorisés              | ✅ Autorisés               | ❌ Uniques seulement      |\n",
    "| **Accès par index**   | ✅ Oui (`liste[i]`)       | ✅ Oui (`tuple[i]`)       | ❌ Non (pas d'indexation) |\n",
    "| **Ajout d'éléments**  | `.append()` / `.insert()` | ❌ Impossible              | `.add()`                 |\n",
    "| **Suppression**       | `.remove()`, `.pop()`     | ❌ Impossible              | `.remove()` |\n",
    "| **Tri possible**      | ✅ `.sort()`              | ❌ Non modifiable          | ❌ Non applicable         |\n",
    "| **Utilisation typique** | Données modifiables     | Données fixes/protégées    | Unicité, ensembles mathématiques |\n",
    "\n",
    "Nous verrons lors du prochain cours comment les parcourir efficacement avec des **boucles**, et comment prendre des décisions avec des **conditions**.\n",
    "\n",
    "En attendant, essayez de réfléchir à des cas où ces structures pourraient vous être utiles dans tes études ou ton travail !\n"
   ]
  }
 ],
 "metadata": {
  "kernelspec": {
   "display_name": "venv",
   "language": "python",
   "name": "python3"
  },
  "language_info": {
   "codemirror_mode": {
    "name": "ipython",
    "version": 3
   },
   "file_extension": ".py",
   "mimetype": "text/x-python",
   "name": "python",
   "nbconvert_exporter": "python",
   "pygments_lexer": "ipython3",
   "version": "3.13.1"
  }
 },
 "nbformat": 4,
 "nbformat_minor": 5
}

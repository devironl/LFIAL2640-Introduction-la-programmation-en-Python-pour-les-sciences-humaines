{
 "cells": [
  {
   "cell_type": "markdown",
   "metadata": {},
   "source": [
    "# Cours 1: Introduction à Python: variables, types de données et opérations de bases\n",
    "\n",
    "## Comment utiliser Python et les notebooks ?\n",
    "\n",
    "La façon la plus classique d'utiliser Python est d'écrire le code dans des fichiers texte et leur donner l'extension `.py`. On les exécute ensuite en utilisant le terminal de l'ordinateur. Cela convient parfaitement pour des projets structurés, des applications ou des automatisations où tout le code est prêt à être exécuté sans intervention directe. Ce mode privilégie la performance et la simplicité pour exécuter du code en production ou des scripts autonomes.\n",
    "\n",
    "Dans le cadre de ce cours, nous allons utiliser des **notebooks** (fichiers avec l'extension `.ipynb`). Ceux-ci permettent une exécution interactive, cellule par cellule. Cela donne la possibilité de tester, modifier et exécuter des parties spécifiques du code sans relancer tout le programme. Les notebooks sont particulièrement utiles pour l’enseignement, car ils intègrent du code, des explications et des visualisations dans un même environnement. A partir d'aujourd'hui, vous ne recevrez plus de slides: les notebooks seront votre unique support de cours.\n",
    "\n",
    "Vous le verrez, les notebooks comprennent deux types de cellules:\n",
    "- les cellules de code contiennent le code python et sont **exécutables**. Elles sont munies d'un bouton `Play`\n",
    "- les cellules de commentaire, qui contiennent du texte. Elles ne sont pas exécutables et reprennent les explications du cours.\n",
    "\n",
    "## La syntaxe Python\n",
    "\n",
    "La syntaxe du langage de programmation Python est l’ensemble des règles qui définissent comment un programme Python doit être écrit et interprété (à la fois par le système d’exécution et par les développeurs humains). Le langage Python présente de nombreuses similitudes avec des langages comme Perl, C et Java. Cependant, il existe certaines différences notables entre ces langages.\n",
    "\n",
    "### Lisibilité\n",
    "\n",
    "Python a été conçu pour être un langage très lisible. Il présente une mise en page visuelle épurée et utilise fréquemment des mots-clés en anglais là où d’autres langages emploient des signes de ponctuation. Python vise à être simple et cohérent dans la conception de sa syntaxe, conformément à la maxime du Zen de Python : “Il doit y avoir une — et de préférence une seule — manière évidente de le faire.”\n",
    "\n",
    "### Indentation\n",
    "\n",
    "Avec Python, oubliez les points-virgules et les accolades pour délimiter les blocs de code. Python fonctionne par lignes, et la hiérarchisation se fait à l’aide de l’indentation. Nous verrons cela plus tard avec les conditions et les fonctions.\n",
    "\n",
    "### Commentaires\n",
    "\n",
    "Un dièse (`#`) indique le début d'un commentaire. Tous les caractères après le # et jusqu’à la fin de la ligne physique font partie du commentaire, et l’interpréteur Python les ignore. Exécutez le code ci-dessous, vous verrez que la ligne commençant par un `#` est ignorée, tandis que l'autre donne un résultat."
   ]
  },
  {
   "cell_type": "code",
   "execution_count": null,
   "metadata": {},
   "outputs": [],
   "source": [
    "# Mon premier programme Python\n",
    "print(\"Avec Python, mes études prennent un tournant passionnant!\") # Ceci est un commentaire"
   ]
  },
  {
   "cell_type": "markdown",
   "metadata": {},
   "source": [
    "Les textes compris entre triples guillemets sont également ignorés par l’interpréteur Python et peuvent être utilisées comme commentaires sur plusieurs lignes :"
   ]
  },
  {
   "cell_type": "code",
   "execution_count": null,
   "metadata": {},
   "outputs": [],
   "source": [
    "\"\"\"\n",
    "Ceci est un commentaire sur plusieurs lignes\n",
    "\"\"\"\n",
    "print(\"Python est un langage de programmation très puissant!\")"
   ]
  },
  {
   "cell_type": "markdown",
   "metadata": {},
   "source": [
    "### Coloration syntaxique\n",
    "\n",
    "La coloration syntaxique est une fonctionnalité des éditeurs de code qui met en évidence différentes parties du code avec des couleurs spécifiques en fonction de leur rôle (mots-clés, variables, commentaires, etc.). Cela aide les programmeurs à mieux lire et comprendre le code en distinguant visuellement les éléments importants. En plus de réduire les erreurs, elle facilite le debugging (débogage en Français) et améliore la productivité en rendant le code plus clair et organisé.\n",
    "\n",
    "Il existe une liste de **mots protégés** en Python. Ils apparaitront automatiquement dans une certaine couleur. Ils ne peuvent être utilisés autrement que pour leur fonction spécifique définie par Python. Par exemple, `if` sert uniquement à introduire une condition. Leur usage est strictement limité à leur rôle syntaxique pour éviter toute ambiguïté dans le code.\n",
    "\n",
    "![keywords](https://qph.cf2.quoracdn.net/main-qimg-55c381e08315452105ed2a8fbacfa84c)"
   ]
  },
  {
   "cell_type": "markdown",
   "metadata": {},
   "source": [
    "## Les variables et les types de données\n",
    "\n",
    "En programmation, une variable est un espace de stockage temporaire dans la mémoire de l'ordinateur qui permet de stocker une valeur ou une donnée. Chaque variable a un nom et une valeur. Le nom est une référence: il permet de réutiliser la valeur plusieurs fois dans le programme.\n",
    "\n",
    "En Python, pour créer une variable, on utilise le nom de la variable suivi d'un signe égal (`=`) et la valeur qu'on souhaite stocker. Par exemple, pour créer une variable nommée `age` et lui assigner la valeur `30`, on utilise la syntaxe suivante :\n",
    "\n",
    "```py\n",
    "age = 30\n",
    "```\n",
    "\n",
    "### Conventions de nommage des variables\n",
    "\n",
    "Comme dans de nombreux langages de programmation, certaines conventions doivent être respectées pour nommer une variable. On peut comparer cela aux conventions du langage humain (ex: on commence une phrase par une majuscule et on la termine par un point). Si vous ne suivez pas les conventions, votre code ne générera pas toujours une erreur, mais il sera moins lisible et donc plus difficile à réutiliser par d’autres. Il est rare de voir des livres mal rédigés être publiés, c'est la même chose pour le code !\n",
    "\n",
    "\n",
    "#### 1. Le nom de la variable doit commencer par une **lettre ou un underscore**. Il est toujours en minuscule. Il ne peut pas commencer par un chiffre ou un tiret.         \n",
    "\n",
    "❌ Mauvais exemples :\n",
    "```py\n",
    "# Ne faites pas ça\n",
    "2Name = \"James\" \n",
    "\n",
    "# Ne faites pas ça\n",
    "-name = \"James\"\n",
    "\n",
    "```\n",
    "\n",
    "✅ Bons exemples :\n",
    "```py\n",
    "# Faites ceci\n",
    "name = \"James\" \n",
    "\n",
    "# Faites ceci\n",
    "_name = \"James\"\n",
    "\n",
    "```\n",
    "#### 2. Une variable ne contient jamais d'espace entre les mots qui la composent \n",
    "\n",
    "❌ Mauvais exemple :\n",
    "```py\n",
    "# Ne faites pas ça\n",
    "My name = \"Odile\" \n",
    "```\n",
    "\n",
    "✅ Bon example :\n",
    "```py\n",
    "# Faites ceci\n",
    "my_name = \"Odile\"\n",
    "\n",
    "```\n",
    "\n",
    "#### 3. On utilise uniquement l'anglais pour nommer les variables, et on n'utilise jamais d'accent\n",
    "\n",
    "❌ Mauvais exemple :\n",
    "```py\n",
    "# Ne faites pas ça\n",
    "prénom = \"Odile\" \n",
    "```\n",
    "\n",
    "✅ Bon exemple :\n",
    "```py\n",
    "# Faites ceci\n",
    "first_name = \"Odile\" \n",
    "```\n",
    "\n",
    "#### 4. On donne toujours un nom clair à la variable. Son nom doit refléter ce qu'elle représente\n",
    "\n",
    "❌ Mauvais exemples :\n",
    "```py\n",
    "# Ne faites pas ça\n",
    "a = \"Odile\" \n",
    "\n",
    "# Ne faites pas ça\n",
    "fstnme = \"Odile\"\n",
    "\n",
    "```\n",
    "\n",
    "✅ Bons exemples :\n",
    "```py\n",
    "# Faites ceci\n",
    "first_name = \"Odile\" \n",
    "\n",
    "# Faites ceci\n",
    "last_name = \"De Ré\"\n",
    "\n",
    "```"
   ]
  },
  {
   "cell_type": "markdown",
   "metadata": {},
   "source": [
    "Essayez vous-mêmes en exécutant les cellules suivantes et en tentant de les corriger. N'hésitez pas à faire attention aux messages d'erreur."
   ]
  },
  {
   "cell_type": "code",
   "execution_count": null,
   "metadata": {},
   "outputs": [],
   "source": [
    "# BAD \n",
    "2name = \"James\""
   ]
  },
  {
   "cell_type": "code",
   "execution_count": null,
   "metadata": {},
   "outputs": [],
   "source": [
    "# BAD\n",
    "-name = \"Bond\""
   ]
  },
  {
   "cell_type": "code",
   "execution_count": null,
   "metadata": {},
   "outputs": [],
   "source": [
    "# BAD\n",
    "My name = \"bond\""
   ]
  },
  {
   "cell_type": "markdown",
   "metadata": {},
   "source": [
    "## Types de variables\n",
    "\n",
    "Les types de données jouent un rôle essentiel en programmation, car ils définissent la nature des valeurs manipulées par un programme et influencent la manière dont les opérations sont effectuées. Dans de nombreux langages, une gestion stricte des types est imposée pour garantir la sécurité et la cohérence du code. Cependant, Python adopte une approche plus flexible.\n",
    "\n",
    "Python est un langage dynamique et faiblement typé, ce qui signifie qu’il ne nécessite pas de déclaration explicite des types de variables. Contrairement aux langages fortement typés comme Java ou C++, où chaque variable doit être associée à un type spécifique dès sa déclaration, Python détermine automatiquement le type en fonction de la valeur assignée. C’est la syntaxe et la façon d’écrire la variable qui définissent son type. Par exemple, écrire `x = 10` crée une variable de type entier (`int`), tandis que `x = \"hello\"` en fait une chaîne de caractères (`str`). Une variable peut ainsi changer de type en cours d’exécution sans conversion explicite. Cette flexibilité facilite l’écriture et la lisibilité du code, mais peut également conduire à des erreurs difficiles à détecter si les types ne sont pas bien gérés.\n",
    "\n",
    "Les principaux types de variables sont les suivants:\n",
    "- Les entiers (`int`): `1`\n",
    "- Les nombres décimaux (`float`): `1.0`\n",
    "- Les chaines de caractère (`str`): `\"UCLouvain\"`\n",
    "- Les opérateurs booléens (`bool`): `True` ou `False`\n",
    "\n",
    "Les variables peuvent aussi être plus complexes, et représenter des structures de données, mais nous verrons ceci au cours suivant.\n",
    "\n",
    "Dans la cellule suivante de ce notebook, nous allons créer les variables `last_name`, `first_name`, `age`, `height`, `weight` et `is_student`. Modifiez leurs valeurs afin qu'elles vous correspondent (vous pouvez mentir sur votre poids ^^), puis exécutez la cellule en cliquant sur le bouton `play`"
   ]
  },
  {
   "cell_type": "code",
   "execution_count": 26,
   "metadata": {},
   "outputs": [],
   "source": [
    "last_name = \"de Viron\"\n",
    "first_name = \"Louis\"\n",
    "age = 36\n",
    "height = 1.86\n",
    "weight = 88\n",
    "is_student = False"
   ]
  },
  {
   "cell_type": "markdown",
   "metadata": {},
   "source": [
    "Nous pouvons vérifier la valeur de chaque variable en \"l'imprimant\" à l'écran à l'aide du mot-clé `print`. Modifiez le code ci-dessous pour afficher la valeur des différentes variables:"
   ]
  },
  {
   "cell_type": "code",
   "execution_count": null,
   "metadata": {},
   "outputs": [],
   "source": [
    "print(last_name)"
   ]
  },
  {
   "cell_type": "markdown",
   "metadata": {},
   "source": [
    "Nous pouvons également explorer le type de chacune des variables que nous avons créées en utilisant le mot-clé `type`. Modifiez le code pour vérifier le type de chacune des variables:"
   ]
  },
  {
   "cell_type": "code",
   "execution_count": null,
   "metadata": {},
   "outputs": [],
   "source": [
    "print(type(last_name))"
   ]
  },
  {
   "cell_type": "code",
   "execution_count": null,
   "metadata": {},
   "outputs": [],
   "source": []
  },
  {
   "cell_type": "markdown",
   "metadata": {},
   "source": [
    "Il est aussi possible de modifier la valeur de la variable. Il suffit de lui attribuer une nouvelle valeur, qui écrasera automatiquement la précédente. N'hésitez pas à  modifier le code ci-dessous pour modifier la valeur des variables que vous avez créées. Vous pouvez ensuite vérifier la valeur et le type après chaque changement"
   ]
  },
  {
   "cell_type": "code",
   "execution_count": null,
   "metadata": {},
   "outputs": [],
   "source": [
    "age = 36.5\n",
    "print(age)\n",
    "print(type(age))"
   ]
  },
  {
   "cell_type": "markdown",
   "metadata": {},
   "source": [
    "Bien que Python soit un langage dynamique et faiblement typé, certaines situations nécessitent de forcer un type spécifique, notamment lors de manipulations de données hétérogènes, d’entrées utilisateur ou de calculs numériques. Dans ce cas, on utilise le **casting**. Il s'agit de la conversion explicite d'une variable d'un type à un autre. Voir exemple ci-dessous:"
   ]
  },
  {
   "cell_type": "code",
   "execution_count": null,
   "metadata": {},
   "outputs": [],
   "source": [
    "age = \"36\"\n",
    "print(type(age))\n",
    "age = int(age)\n",
    "print(type(age))"
   ]
  },
  {
   "cell_type": "markdown",
   "metadata": {},
   "source": [
    "## Opérations de base\n",
    "\n",
    "### Opérations sur les nombres\n",
    "\n",
    "Les opérations de base en programmation sont les opérations mathématiques. Elles permettent de faire des calculs à partir des variables et s'utilisent exactement comme vous l'avez appris à l'école primaire. Les opérations principales sont donc:\n",
    "\n",
    "- L'addition (`+`)\n",
    "- La soustraction (`-`)\n",
    "- La multiplication (`*`)\n",
    "- La division (`/`)\n",
    "\n",
    "Vous pouvez également utiliser les opérations suivantes:\n",
    "- La division entière (`//`): elle donne résultat de la division sans la partie décimale => `5 // 2 = 2`\n",
    "- Le modulo (`%`): il donne le reste de la division entière => `5 % 2 = 1`\n",
    "- L'exposant (`**`)\n",
    "\n",
    "Commençons par créer deux variables afin de pouvoir réaliser des opérations arithmétiques:"
   ]
  },
  {
   "cell_type": "code",
   "execution_count": 31,
   "metadata": {},
   "outputs": [],
   "source": [
    "a = 10\n",
    "b = 20"
   ]
  },
  {
   "cell_type": "markdown",
   "metadata": {},
   "source": [
    "**Addition**"
   ]
  },
  {
   "cell_type": "code",
   "execution_count": null,
   "metadata": {},
   "outputs": [],
   "source": [
    "addition = a + b\n",
    "print(addition)"
   ]
  },
  {
   "cell_type": "markdown",
   "metadata": {},
   "source": [
    "**Soustraction**"
   ]
  },
  {
   "cell_type": "code",
   "execution_count": null,
   "metadata": {},
   "outputs": [],
   "source": [
    "substraction = b - a\n",
    "print(substraction)"
   ]
  },
  {
   "cell_type": "markdown",
   "metadata": {},
   "source": [
    "**Multiplication**"
   ]
  },
  {
   "cell_type": "code",
   "execution_count": null,
   "metadata": {},
   "outputs": [],
   "source": [
    "multiplication = a * b\n",
    "print(multiplication)"
   ]
  },
  {
   "cell_type": "markdown",
   "metadata": {},
   "source": [
    "**Division**"
   ]
  },
  {
   "cell_type": "code",
   "execution_count": null,
   "metadata": {},
   "outputs": [],
   "source": [
    "division = b / a\n",
    "print(division)"
   ]
  },
  {
   "cell_type": "markdown",
   "metadata": {},
   "source": [
    "A noter, dans ce cas, Python a renvoyé un `float`. On peut l'éviter en effectuant une division entière\n",
    "\n",
    "**Division entière**  \n"
   ]
  },
  {
   "cell_type": "code",
   "execution_count": null,
   "metadata": {},
   "outputs": [],
   "source": [
    "floor_division = b // a\n",
    "floor_division_bis = 31 // 10\n",
    "\n",
    "print(\"floor_division: \", floor_division)\n",
    "print(\"floor_division_bis: \", floor_division_bis)  "
   ]
  },
  {
   "cell_type": "markdown",
   "metadata": {},
   "source": [
    "**Modulo**  \n",
    "\n",
    "Le `modulo` est utilisé pour récupérer le reste de la division entière."
   ]
  },
  {
   "cell_type": "code",
   "execution_count": null,
   "metadata": {},
   "outputs": [],
   "source": [
    "modulus = b % a\n",
    "print(\"modulus :\", modulus)\n",
    "modulus_bis = 21 % 2\n",
    "print(\"modulus_bis :\", modulus_bis)"
   ]
  },
  {
   "cell_type": "markdown",
   "metadata": {},
   "source": [
    "**Exposant**  "
   ]
  },
  {
   "cell_type": "code",
   "execution_count": null,
   "metadata": {},
   "outputs": [],
   "source": [
    "power_of_two = a ** 2\n",
    "print(power_of_two)"
   ]
  },
  {
   "cell_type": "markdown",
   "metadata": {},
   "source": [
    "### Opérateurs de comparaison\n",
    "\n",
    "Les opérateurs de comparaison permettent de comparer des valeurs entre elles. Chaque comparaison renvoie un résultat booléen :\n",
    "- `True` si l’expression est vérifiée.\n",
    "- `False` si l’expression ne l’est pas.\n",
    "\n",
    "Ces opérateurs sont particulièrement utilisés dans les expressions conditionnelles, un concept que nous aborderons dans un prochain cours.\n",
    "\n",
    "<table>\n",
    "\n",
    "<tbody>\n",
    "\n",
    "<tr>\n",
    "\n",
    "<th>Opérateur</th>\n",
    "\n",
    "<th >Description</th>\n",
    "\n",
    "\n",
    "\n",
    "</tr>\n",
    "\n",
    "<tr>\n",
    "\n",
    "<td >==</td>\n",
    "\n",
    "<td>Si les valeurs des deux opérandes sont égales, la valeur de l'expression est `True`</td>\n",
    "\n",
    "</tr>\n",
    "\n",
    "<tr>\n",
    "\n",
    "<td >!=</td>\n",
    "\n",
    "<td>Si les valeurs des deux opérandes sont inégales, la valeur de l'expression est `True`</td>\n",
    "\n",
    "\n",
    "\n",
    "</tr>\n",
    "\n",
    "\n",
    "<tr>\n",
    "\n",
    "<td >></td>\n",
    "\n",
    "<td>Si la valeur de l’opérande de gauche est supérieure à celle de l’opérande de droite, la valeur de l'expression est `True`</td>\n",
    "\n",
    "\n",
    "\n",
    "</tr>\n",
    "\n",
    "<tr>\n",
    "\n",
    "<td ><</td>\n",
    "\n",
    "<td>Si la valeur de l’opérande de gauche est inférieure à celle de l’opérande de droite, la valeur de l'expression est `True`</td>\n",
    "\n",
    "\n",
    "</tr>\n",
    "\n",
    "<tr>\n",
    "\n",
    "<td >>=</td>\n",
    "\n",
    "<td>Si la valeur de l’opérande de gauche est supérieure ou égale à celle de l’opérande de droite, la valeur de l'expression est `True`</td>\n",
    "\n",
    "\n",
    "</tr>\n",
    "\n",
    "<tr>\n",
    "\n",
    "<td ><=</td>\n",
    "\n",
    "<td>Si la valeur de l’opérande de gauche est inférieure ou égale à celle de l’opérande de droite, la valeur de l'expression est `True`</td>\n",
    "\n",
    "\n",
    "</tr>\n",
    "\n",
    "</tbody>\n",
    "\n",
    "</table>\n",
    "\n",
    "\n",
    "Essayons avec deux variables et comparons leurs valeurs.\n"
   ]
  },
  {
   "cell_type": "code",
   "execution_count": 56,
   "metadata": {},
   "outputs": [],
   "source": [
    "a = 10\n",
    "b = 20"
   ]
  },
  {
   "cell_type": "code",
   "execution_count": null,
   "metadata": {},
   "outputs": [],
   "source": [
    "print(a == b)\n",
    "print(a == 10)"
   ]
  },
  {
   "cell_type": "code",
   "execution_count": null,
   "metadata": {},
   "outputs": [],
   "source": [
    "print(a != b)\n",
    "print(a != 10)"
   ]
  },
  {
   "cell_type": "code",
   "execution_count": null,
   "metadata": {},
   "outputs": [],
   "source": [
    "print(a > b)\n",
    "print(b > a)"
   ]
  },
  {
   "cell_type": "code",
   "execution_count": null,
   "metadata": {},
   "outputs": [],
   "source": [
    "print(a >= b)\n",
    "print(b >= a)"
   ]
  },
  {
   "cell_type": "code",
   "execution_count": null,
   "metadata": {},
   "outputs": [],
   "source": [
    "print(a < b)\n",
    "print(b < a)"
   ]
  },
  {
   "cell_type": "code",
   "execution_count": null,
   "metadata": {},
   "outputs": [],
   "source": [
    "print(a <= b)\n",
    "print(b <= a)"
   ]
  },
  {
   "cell_type": "markdown",
   "metadata": {},
   "source": [
    "### Les opérateurs d'affectation\n",
    "\n",
    "Les opérateurs d’affectation en Python sont utilisés pour attribuer la valeur de l’opérande de droite à l’opérande de gauche:\n",
    "\n",
    "<table>\n",
    "\n",
    "<tbody>\n",
    "\n",
    "<tr>\n",
    "\n",
    "<th style=\"text-align:center;width:10%\">Opérateur</th>\n",
    "\n",
    "<th style=\"text-align:center;width:45%\">Description</th>\n",
    "\n",
    "\n",
    "<tr>\n",
    "\n",
    "<td >+=</td>\n",
    "\n",
    "<td>Il ajoute l’opérande de droite à l’opérande de gauche et assigne le résultat à l’opérande de gauche.</td>\n",
    "\n",
    "\n",
    "</tr>\n",
    "\n",
    "<tr>\n",
    "\n",
    "<td >-=</td>\n",
    "\n",
    "<td>Il soustrait l’opérande de droite de l’opérande de gauche et assigne le résultat à l’opérande de gauche.</td>\n",
    "\n",
    "\n",
    "\n",
    "</tr>\n",
    "\n",
    "<tr>\n",
    "\n",
    "<td >*=</td>\n",
    "\n",
    "<td>Il multiplie l’opérande de droite par l’opérande de gauche et assigne le résultat à l’opérande de gauche.</td>\n",
    "\n",
    "\n",
    "</tr>\n",
    "\n",
    "<tr>\n",
    "\n",
    "<td >/=</td>\n",
    "\n",
    "<td>Il divise l’opérande de gauche par l’opérande de droite et assigne le résultat à l’opérande de gauche.</td>\n",
    "\n",
    "\n",
    "</tr>\n",
    "\n",
    "<tr>\n",
    "\n",
    "<td>%=</td>\n",
    "\n",
    "<td>Il calcule le modulo des deux opérandes et assigne le résultat à l’opérande de gauche.</td>\n",
    "\n",
    "\n",
    "\n",
    "</tr>\n",
    "\n",
    "<tr>\n",
    "\n",
    "<td>**=</td>\n",
    "\n",
    "<td>Il effectue un calcul exponentiel (puissance) sur les opérandes et assigne le résultat à l’opérande de gauche.</td>\n",
    "\n",
    "\n",
    "</tr>\n",
    "\n",
    "<tr>\n",
    "\n",
    "<td >//=</td>\n",
    "\n",
    "<td>Il effectue une division entière (floor division) sur les opérandes et assigne le résultat à l’opérande de gauche.</td>\n",
    "\n",
    "\n",
    "\n",
    "</tr>\n",
    "\n",
    "</tbody>\n",
    "\n",
    "</table>"
   ]
  },
  {
   "cell_type": "code",
   "execution_count": null,
   "metadata": {},
   "outputs": [],
   "source": [
    "a = 20\n",
    "a += 10\n",
    "print(a)"
   ]
  },
  {
   "cell_type": "code",
   "execution_count": null,
   "metadata": {},
   "outputs": [],
   "source": [
    "a = 20\n",
    "a -= 10\n",
    "print(a)"
   ]
  },
  {
   "cell_type": "code",
   "execution_count": null,
   "metadata": {},
   "outputs": [],
   "source": [
    "a = 10\n",
    "a *= 10\n",
    "print(a)"
   ]
  },
  {
   "cell_type": "code",
   "execution_count": null,
   "metadata": {},
   "outputs": [],
   "source": [
    "a = 100\n",
    "a /= 10\n",
    "print(a)"
   ]
  },
  {
   "cell_type": "code",
   "execution_count": null,
   "metadata": {},
   "outputs": [],
   "source": [
    "a = 100\n",
    "a %= 3\n",
    "print(a)"
   ]
  },
  {
   "cell_type": "code",
   "execution_count": null,
   "metadata": {},
   "outputs": [],
   "source": [
    "a = 2\n",
    "a **= 3  # ( 2 * 2 * 2)\n",
    "print(a)"
   ]
  },
  {
   "cell_type": "code",
   "execution_count": null,
   "metadata": {},
   "outputs": [],
   "source": [
    "a = 20\n",
    "a //= 3\n",
    "print(a)"
   ]
  },
  {
   "cell_type": "markdown",
   "metadata": {},
   "source": [
    "### Opérations sur les chaines de caractère (string)\n",
    "\n",
    "Il est également possible de concaténer des chaines de caractères entre elles en utilisant l'opérateur `+`. On peut par exemple créer une biographie de quelqu'un en utilisant les variables précédemment créées."
   ]
  },
  {
   "cell_type": "code",
   "execution_count": 1,
   "metadata": {},
   "outputs": [],
   "source": [
    "first_name = \"Louis\"\n",
    "last_name = \"de Viron\"\n",
    "age = 36\n",
    "height = 1.86"
   ]
  },
  {
   "cell_type": "code",
   "execution_count": null,
   "metadata": {},
   "outputs": [],
   "source": [
    "bio = first_name + \" \" + last_name + \" a \" + str(age) + \" ans et mesure \" + str(height) + \".\"\n",
    "print(bio)"
   ]
  },
  {
   "cell_type": "markdown",
   "metadata": {},
   "source": [
    "Pour plus de lisibilité, il est également possible (et plus propre) d'utiliser ce qu'on appelle des `f-strings` pour construire des chaines de caractère qui incluent des variables.\n",
    "\n",
    "Pour construire un `f-string`, on fait précéder la chaine de caractère de la lettre `f` et on inclut les variables dans celle-ci, entre accolades `{variable}`"
   ]
  },
  {
   "cell_type": "code",
   "execution_count": null,
   "metadata": {},
   "outputs": [],
   "source": [
    "bio = f\"{first_name} {last_name} a {age} ans et mesure {height} mètres.\"\n",
    "print(bio)\n"
   ]
  },
  {
   "cell_type": "markdown",
   "metadata": {},
   "source": [
    "Pour encore plus de lisibilité, il est également possible de créer des chaines de caractères sur plusieurs lignes en utilisant les `\"\"\"`:"
   ]
  },
  {
   "cell_type": "code",
   "execution_count": null,
   "metadata": {},
   "outputs": [],
   "source": [
    "bio = f\"\"\"\n",
    "    {first_name} {last_name} a {age} ans.\n",
    "    Il mesure {height} mètres.\n",
    "\"\"\"\n",
    "print(bio)"
   ]
  }
 ],
 "metadata": {
  "kernelspec": {
   "display_name": "venv",
   "language": "python",
   "name": "python3"
  },
  "language_info": {
   "codemirror_mode": {
    "name": "ipython",
    "version": 3
   },
   "file_extension": ".py",
   "mimetype": "text/x-python",
   "name": "python",
   "nbconvert_exporter": "python",
   "pygments_lexer": "ipython3",
   "version": "3.13.1"
  }
 },
 "nbformat": 4,
 "nbformat_minor": 2
}
